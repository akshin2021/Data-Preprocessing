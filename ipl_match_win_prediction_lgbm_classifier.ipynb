{
  "cells": [
    {
      "cell_type": "markdown",
      "metadata": {
        "id": "view-in-github",
        "colab_type": "text"
      },
      "source": [
        "<a href=\"https://colab.research.google.com/github/akshin2021/Data-Preprocessing/blob/main/ipl_match_win_prediction_lgbm_classifier.ipynb\" target=\"_parent\"><img src=\"https://colab.research.google.com/assets/colab-badge.svg\" alt=\"Open In Colab\"/></a>"
      ]
    },
    {
      "cell_type": "markdown",
      "id": "b3b7d574",
      "metadata": {
        "papermill": {
          "duration": 0.01951,
          "end_time": "2023-07-27T05:48:26.242354",
          "exception": false,
          "start_time": "2023-07-27T05:48:26.222844",
          "status": "completed"
        },
        "tags": [],
        "id": "b3b7d574"
      },
      "source": [
        "# **IPL ANALYSIS 2008 - 2020** #"
      ]
    },
    {
      "cell_type": "markdown",
      "id": "3a1ab645",
      "metadata": {
        "papermill": {
          "duration": 0.015796,
          "end_time": "2023-07-27T05:48:26.274295",
          "exception": false,
          "start_time": "2023-07-27T05:48:26.258499",
          "status": "completed"
        },
        "tags": [],
        "id": "3a1ab645"
      },
      "source": [
        "# **Importing required libraries**"
      ]
    },
    {
      "cell_type": "code",
      "execution_count": null,
      "id": "7ffb01fa",
      "metadata": {
        "execution": {
          "iopub.execute_input": "2023-07-27T05:48:26.308862Z",
          "iopub.status.busy": "2023-07-27T05:48:26.308271Z",
          "iopub.status.idle": "2023-07-27T05:48:29.354813Z",
          "shell.execute_reply": "2023-07-27T05:48:29.353799Z"
        },
        "papermill": {
          "duration": 3.067173,
          "end_time": "2023-07-27T05:48:29.357641",
          "exception": false,
          "start_time": "2023-07-27T05:48:26.290468",
          "status": "completed"
        },
        "tags": [],
        "id": "7ffb01fa",
        "outputId": "1317724e-8c0b-434d-df47-fcaf0284d043"
      },
      "outputs": [
        {
          "name": "stderr",
          "output_type": "stream",
          "text": [
            "/opt/conda/lib/python3.10/site-packages/scipy/__init__.py:146: UserWarning: A NumPy version >=1.16.5 and <1.23.0 is required for this version of SciPy (detected version 1.23.5\n",
            "  warnings.warn(f\"A NumPy version >={np_minversion} and <{np_maxversion}\"\n"
          ]
        }
      ],
      "source": [
        "# Importing required libraries\n",
        "import numpy as np  # Library for numerical operations\n",
        "import pandas as pd  # Library for data manipulation and analysis\n",
        "import matplotlib.pyplot as plt  # Library for creating visualizations\n",
        "import seaborn as sns  # Library for advanced data visualization\n",
        "from sklearn.model_selection import train_test_split  # Function to split data into training and testing sets\n",
        "from sklearn.metrics import confusion_matrix    # Import the confusion_matrix function for evaluating classification results\n",
        "from sklearn.metrics import classification_report   # Import the classification_report function for detailed classification metrics\n",
        "from sklearn.ensemble import RandomForestClassifier  # Random Forest classifier model\n",
        "from sklearn.linear_model import LogisticRegression  # Importing Logistic regression classifier\n",
        "from sklearn.metrics import accuracy_score  # Function to calculate accuracy score\n"
      ]
    },
    {
      "cell_type": "markdown",
      "id": "562b6ca4",
      "metadata": {
        "papermill": {
          "duration": 0.016324,
          "end_time": "2023-07-27T05:48:29.390857",
          "exception": false,
          "start_time": "2023-07-27T05:48:29.374533",
          "status": "completed"
        },
        "tags": [],
        "id": "562b6ca4"
      },
      "source": [
        "# **Importing our dataset**"
      ]
    },
    {
      "cell_type": "code",
      "execution_count": null,
      "id": "cce2f80f",
      "metadata": {
        "execution": {
          "iopub.execute_input": "2023-07-27T05:48:29.426039Z",
          "iopub.status.busy": "2023-07-27T05:48:29.425474Z",
          "iopub.status.idle": "2023-07-27T05:48:29.481332Z",
          "shell.execute_reply": "2023-07-27T05:48:29.480182Z"
        },
        "papermill": {
          "duration": 0.076067,
          "end_time": "2023-07-27T05:48:29.483398",
          "exception": false,
          "start_time": "2023-07-27T05:48:29.407331",
          "status": "completed"
        },
        "tags": [],
        "id": "cce2f80f",
        "outputId": "47c468f1-5ac2-471d-ec5f-f8f4def44cce"
      },
      "outputs": [
        {
          "data": {
            "text/html": [
              "<div>\n",
              "<style scoped>\n",
              "    .dataframe tbody tr th:only-of-type {\n",
              "        vertical-align: middle;\n",
              "    }\n",
              "\n",
              "    .dataframe tbody tr th {\n",
              "        vertical-align: top;\n",
              "    }\n",
              "\n",
              "    .dataframe thead th {\n",
              "        text-align: right;\n",
              "    }\n",
              "</style>\n",
              "<table border=\"1\" class=\"dataframe\">\n",
              "  <thead>\n",
              "    <tr style=\"text-align: right;\">\n",
              "      <th></th>\n",
              "      <th>id</th>\n",
              "      <th>city</th>\n",
              "      <th>date</th>\n",
              "      <th>player_of_match</th>\n",
              "      <th>venue</th>\n",
              "      <th>neutral_venue</th>\n",
              "      <th>team1</th>\n",
              "      <th>team2</th>\n",
              "      <th>toss_winner</th>\n",
              "      <th>toss_decision</th>\n",
              "      <th>winner</th>\n",
              "      <th>result</th>\n",
              "      <th>result_margin</th>\n",
              "      <th>eliminator</th>\n",
              "      <th>method</th>\n",
              "      <th>umpire1</th>\n",
              "      <th>umpire2</th>\n",
              "    </tr>\n",
              "  </thead>\n",
              "  <tbody>\n",
              "    <tr>\n",
              "      <th>0</th>\n",
              "      <td>335982</td>\n",
              "      <td>Bangalore</td>\n",
              "      <td>2008-04-18</td>\n",
              "      <td>BB McCullum</td>\n",
              "      <td>M Chinnaswamy Stadium</td>\n",
              "      <td>0</td>\n",
              "      <td>Royal Challengers Bangalore</td>\n",
              "      <td>Kolkata Knight Riders</td>\n",
              "      <td>Royal Challengers Bangalore</td>\n",
              "      <td>field</td>\n",
              "      <td>Kolkata Knight Riders</td>\n",
              "      <td>runs</td>\n",
              "      <td>140.0</td>\n",
              "      <td>N</td>\n",
              "      <td>NaN</td>\n",
              "      <td>Asad Rauf</td>\n",
              "      <td>RE Koertzen</td>\n",
              "    </tr>\n",
              "    <tr>\n",
              "      <th>1</th>\n",
              "      <td>335983</td>\n",
              "      <td>Chandigarh</td>\n",
              "      <td>2008-04-19</td>\n",
              "      <td>MEK Hussey</td>\n",
              "      <td>Punjab Cricket Association Stadium, Mohali</td>\n",
              "      <td>0</td>\n",
              "      <td>Kings XI Punjab</td>\n",
              "      <td>Chennai Super Kings</td>\n",
              "      <td>Chennai Super Kings</td>\n",
              "      <td>bat</td>\n",
              "      <td>Chennai Super Kings</td>\n",
              "      <td>runs</td>\n",
              "      <td>33.0</td>\n",
              "      <td>N</td>\n",
              "      <td>NaN</td>\n",
              "      <td>MR Benson</td>\n",
              "      <td>SL Shastri</td>\n",
              "    </tr>\n",
              "    <tr>\n",
              "      <th>2</th>\n",
              "      <td>335984</td>\n",
              "      <td>Delhi</td>\n",
              "      <td>2008-04-19</td>\n",
              "      <td>MF Maharoof</td>\n",
              "      <td>Feroz Shah Kotla</td>\n",
              "      <td>0</td>\n",
              "      <td>Delhi Daredevils</td>\n",
              "      <td>Rajasthan Royals</td>\n",
              "      <td>Rajasthan Royals</td>\n",
              "      <td>bat</td>\n",
              "      <td>Delhi Daredevils</td>\n",
              "      <td>wickets</td>\n",
              "      <td>9.0</td>\n",
              "      <td>N</td>\n",
              "      <td>NaN</td>\n",
              "      <td>Aleem Dar</td>\n",
              "      <td>GA Pratapkumar</td>\n",
              "    </tr>\n",
              "    <tr>\n",
              "      <th>3</th>\n",
              "      <td>335985</td>\n",
              "      <td>Mumbai</td>\n",
              "      <td>2008-04-20</td>\n",
              "      <td>MV Boucher</td>\n",
              "      <td>Wankhede Stadium</td>\n",
              "      <td>0</td>\n",
              "      <td>Mumbai Indians</td>\n",
              "      <td>Royal Challengers Bangalore</td>\n",
              "      <td>Mumbai Indians</td>\n",
              "      <td>bat</td>\n",
              "      <td>Royal Challengers Bangalore</td>\n",
              "      <td>wickets</td>\n",
              "      <td>5.0</td>\n",
              "      <td>N</td>\n",
              "      <td>NaN</td>\n",
              "      <td>SJ Davis</td>\n",
              "      <td>DJ Harper</td>\n",
              "    </tr>\n",
              "    <tr>\n",
              "      <th>4</th>\n",
              "      <td>335986</td>\n",
              "      <td>Kolkata</td>\n",
              "      <td>2008-04-20</td>\n",
              "      <td>DJ Hussey</td>\n",
              "      <td>Eden Gardens</td>\n",
              "      <td>0</td>\n",
              "      <td>Kolkata Knight Riders</td>\n",
              "      <td>Deccan Chargers</td>\n",
              "      <td>Deccan Chargers</td>\n",
              "      <td>bat</td>\n",
              "      <td>Kolkata Knight Riders</td>\n",
              "      <td>wickets</td>\n",
              "      <td>5.0</td>\n",
              "      <td>N</td>\n",
              "      <td>NaN</td>\n",
              "      <td>BF Bowden</td>\n",
              "      <td>K Hariharan</td>\n",
              "    </tr>\n",
              "  </tbody>\n",
              "</table>\n",
              "</div>"
            ],
            "text/plain": [
              "       id        city        date player_of_match  \\\n",
              "0  335982   Bangalore  2008-04-18     BB McCullum   \n",
              "1  335983  Chandigarh  2008-04-19      MEK Hussey   \n",
              "2  335984       Delhi  2008-04-19     MF Maharoof   \n",
              "3  335985      Mumbai  2008-04-20      MV Boucher   \n",
              "4  335986     Kolkata  2008-04-20       DJ Hussey   \n",
              "\n",
              "                                        venue  neutral_venue  \\\n",
              "0                       M Chinnaswamy Stadium              0   \n",
              "1  Punjab Cricket Association Stadium, Mohali              0   \n",
              "2                            Feroz Shah Kotla              0   \n",
              "3                            Wankhede Stadium              0   \n",
              "4                                Eden Gardens              0   \n",
              "\n",
              "                         team1                        team2  \\\n",
              "0  Royal Challengers Bangalore        Kolkata Knight Riders   \n",
              "1              Kings XI Punjab          Chennai Super Kings   \n",
              "2             Delhi Daredevils             Rajasthan Royals   \n",
              "3               Mumbai Indians  Royal Challengers Bangalore   \n",
              "4        Kolkata Knight Riders              Deccan Chargers   \n",
              "\n",
              "                   toss_winner toss_decision                       winner  \\\n",
              "0  Royal Challengers Bangalore         field        Kolkata Knight Riders   \n",
              "1          Chennai Super Kings           bat          Chennai Super Kings   \n",
              "2             Rajasthan Royals           bat             Delhi Daredevils   \n",
              "3               Mumbai Indians           bat  Royal Challengers Bangalore   \n",
              "4              Deccan Chargers           bat        Kolkata Knight Riders   \n",
              "\n",
              "    result  result_margin eliminator method    umpire1         umpire2  \n",
              "0     runs          140.0          N    NaN  Asad Rauf     RE Koertzen  \n",
              "1     runs           33.0          N    NaN  MR Benson      SL Shastri  \n",
              "2  wickets            9.0          N    NaN  Aleem Dar  GA Pratapkumar  \n",
              "3  wickets            5.0          N    NaN   SJ Davis       DJ Harper  \n",
              "4  wickets            5.0          N    NaN  BF Bowden     K Hariharan  "
            ]
          },
          "execution_count": 2,
          "metadata": {},
          "output_type": "execute_result"
        }
      ],
      "source": [
        "# Reading the CSV file 'ipl.csv' and storing the data in a DataFrame called 'data'\n",
        "data = pd.read_csv('/kaggle/input/ipl-complete-dataset-20082020/IPL Matches 2008-2020.csv')\n",
        "\n",
        "# Displaying the first 5 rows of the dataset\n",
        "data.head()"
      ]
    },
    {
      "cell_type": "markdown",
      "id": "04a9c698",
      "metadata": {
        "papermill": {
          "duration": 0.016378,
          "end_time": "2023-07-27T05:48:29.571905",
          "exception": false,
          "start_time": "2023-07-27T05:48:29.555527",
          "status": "completed"
        },
        "tags": [],
        "id": "04a9c698"
      },
      "source": [
        "# **Understanding our data**"
      ]
    },
    {
      "cell_type": "code",
      "execution_count": null,
      "id": "b3a3ad9a",
      "metadata": {
        "execution": {
          "iopub.execute_input": "2023-07-27T05:48:29.608545Z",
          "iopub.status.busy": "2023-07-27T05:48:29.608199Z",
          "iopub.status.idle": "2023-07-27T05:48:29.613103Z",
          "shell.execute_reply": "2023-07-27T05:48:29.612177Z"
        },
        "papermill": {
          "duration": 0.026726,
          "end_time": "2023-07-27T05:48:29.615671",
          "exception": false,
          "start_time": "2023-07-27T05:48:29.588945",
          "status": "completed"
        },
        "tags": [],
        "id": "b3a3ad9a",
        "outputId": "71f026d3-9ae4-414b-f581-30ee5e52ddd6"
      },
      "outputs": [
        {
          "name": "stdout",
          "output_type": "stream",
          "text": [
            "Rows and Columns of the dataset :-  (816, 17)\n"
          ]
        }
      ],
      "source": [
        "# Shape of our data\n",
        "print(\"Rows and Columns of the dataset :- \",data.shape)"
      ]
    },
    {
      "cell_type": "code",
      "execution_count": null,
      "id": "22526fb3",
      "metadata": {
        "execution": {
          "iopub.execute_input": "2023-07-27T05:48:29.653251Z",
          "iopub.status.busy": "2023-07-27T05:48:29.652595Z",
          "iopub.status.idle": "2023-07-27T05:48:29.681478Z",
          "shell.execute_reply": "2023-07-27T05:48:29.679812Z"
        },
        "papermill": {
          "duration": 0.050732,
          "end_time": "2023-07-27T05:48:29.683784",
          "exception": false,
          "start_time": "2023-07-27T05:48:29.633052",
          "status": "completed"
        },
        "tags": [],
        "id": "22526fb3",
        "outputId": "7fdc7289-b312-4e20-b18f-1242865a5586"
      },
      "outputs": [
        {
          "name": "stdout",
          "output_type": "stream",
          "text": [
            "<class 'pandas.core.frame.DataFrame'>\n",
            "RangeIndex: 816 entries, 0 to 815\n",
            "Data columns (total 17 columns):\n",
            " #   Column           Non-Null Count  Dtype  \n",
            "---  ------           --------------  -----  \n",
            " 0   id               816 non-null    int64  \n",
            " 1   city             803 non-null    object \n",
            " 2   date             816 non-null    object \n",
            " 3   player_of_match  812 non-null    object \n",
            " 4   venue            816 non-null    object \n",
            " 5   neutral_venue    816 non-null    int64  \n",
            " 6   team1            816 non-null    object \n",
            " 7   team2            816 non-null    object \n",
            " 8   toss_winner      816 non-null    object \n",
            " 9   toss_decision    816 non-null    object \n",
            " 10  winner           812 non-null    object \n",
            " 11  result           812 non-null    object \n",
            " 12  result_margin    799 non-null    float64\n",
            " 13  eliminator       812 non-null    object \n",
            " 14  method           19 non-null     object \n",
            " 15  umpire1          816 non-null    object \n",
            " 16  umpire2          816 non-null    object \n",
            "dtypes: float64(1), int64(2), object(14)\n",
            "memory usage: 108.5+ KB\n"
          ]
        }
      ],
      "source": [
        "# 816 rows and 17 columns are present\n",
        "# Identifying information about composition and potential data quality\n",
        "data.info()"
      ]
    },
    {
      "cell_type": "code",
      "execution_count": null,
      "id": "c5ded8cb",
      "metadata": {
        "execution": {
          "iopub.execute_input": "2023-07-27T05:48:29.795942Z",
          "iopub.status.busy": "2023-07-27T05:48:29.795463Z",
          "iopub.status.idle": "2023-07-27T05:48:29.801739Z",
          "shell.execute_reply": "2023-07-27T05:48:29.800586Z"
        },
        "papermill": {
          "duration": 0.027011,
          "end_time": "2023-07-27T05:48:29.804323",
          "exception": false,
          "start_time": "2023-07-27T05:48:29.777312",
          "status": "completed"
        },
        "tags": [],
        "id": "c5ded8cb",
        "outputId": "a62d2541-0b4f-4f0e-bcdf-fb1c12c0ce83"
      },
      "outputs": [
        {
          "data": {
            "text/plain": [
              "array(['Royal Challengers Bangalore', 'Kings XI Punjab',\n",
              "       'Delhi Daredevils', 'Mumbai Indians', 'Kolkata Knight Riders',\n",
              "       'Rajasthan Royals', 'Deccan Chargers', 'Chennai Super Kings',\n",
              "       'Kochi Tuskers Kerala', 'Pune Warriors', 'Sunrisers Hyderabad',\n",
              "       'Gujarat Lions', 'Rising Pune Supergiants',\n",
              "       'Rising Pune Supergiant', 'Delhi Capitals'], dtype=object)"
            ]
          },
          "execution_count": 7,
          "metadata": {},
          "output_type": "execute_result"
        }
      ],
      "source": [
        "# Get unique values in the 'team1' column\n",
        "data['team1'].unique()"
      ]
    },
    {
      "cell_type": "code",
      "execution_count": null,
      "id": "ed560691",
      "metadata": {
        "execution": {
          "iopub.execute_input": "2023-07-27T05:48:29.841014Z",
          "iopub.status.busy": "2023-07-27T05:48:29.840674Z",
          "iopub.status.idle": "2023-07-27T05:48:29.847481Z",
          "shell.execute_reply": "2023-07-27T05:48:29.846270Z"
        },
        "papermill": {
          "duration": 0.027311,
          "end_time": "2023-07-27T05:48:29.849350",
          "exception": false,
          "start_time": "2023-07-27T05:48:29.822039",
          "status": "completed"
        },
        "tags": [],
        "id": "ed560691",
        "outputId": "771db102-fd6a-4c41-e719-f06ecec2ba5d"
      },
      "outputs": [
        {
          "data": {
            "text/plain": [
              "array(['Kolkata Knight Riders', 'Chennai Super Kings', 'Rajasthan Royals',\n",
              "       'Royal Challengers Bangalore', 'Deccan Chargers',\n",
              "       'Kings XI Punjab', 'Delhi Daredevils', 'Mumbai Indians',\n",
              "       'Kochi Tuskers Kerala', 'Pune Warriors', 'Sunrisers Hyderabad',\n",
              "       'Rising Pune Supergiants', 'Gujarat Lions',\n",
              "       'Rising Pune Supergiant', 'Delhi Capitals'], dtype=object)"
            ]
          },
          "execution_count": 8,
          "metadata": {},
          "output_type": "execute_result"
        }
      ],
      "source": [
        "# Get unique values in the 'team2' column\n",
        "data['team2'].unique()"
      ]
    },
    {
      "cell_type": "code",
      "execution_count": null,
      "id": "d251fcc4",
      "metadata": {
        "execution": {
          "iopub.execute_input": "2023-07-27T05:48:29.886802Z",
          "iopub.status.busy": "2023-07-27T05:48:29.886400Z",
          "iopub.status.idle": "2023-07-27T05:48:29.893148Z",
          "shell.execute_reply": "2023-07-27T05:48:29.892105Z"
        },
        "papermill": {
          "duration": 0.027553,
          "end_time": "2023-07-27T05:48:29.894990",
          "exception": false,
          "start_time": "2023-07-27T05:48:29.867437",
          "status": "completed"
        },
        "tags": [],
        "id": "d251fcc4",
        "outputId": "f264cdc1-cbea-4401-b290-8f76afb16c2c"
      },
      "outputs": [
        {
          "data": {
            "text/plain": [
              "array(['Kolkata Knight Riders', 'Chennai Super Kings', 'Delhi Daredevils',\n",
              "       'Royal Challengers Bangalore', 'Rajasthan Royals',\n",
              "       'Kings XI Punjab', 'Deccan Chargers', 'Mumbai Indians',\n",
              "       'Pune Warriors', 'Kochi Tuskers Kerala', nan,\n",
              "       'Sunrisers Hyderabad', 'Rising Pune Supergiants', 'Gujarat Lions',\n",
              "       'Rising Pune Supergiant', 'Delhi Capitals'], dtype=object)"
            ]
          },
          "execution_count": 9,
          "metadata": {},
          "output_type": "execute_result"
        }
      ],
      "source": [
        "# Get unique values in the 'winner' column\n",
        "data['winner'].unique()"
      ]
    },
    {
      "cell_type": "code",
      "execution_count": null,
      "id": "5a7cc827",
      "metadata": {
        "execution": {
          "iopub.execute_input": "2023-07-27T05:48:29.932679Z",
          "iopub.status.busy": "2023-07-27T05:48:29.931894Z",
          "iopub.status.idle": "2023-07-27T05:48:29.938013Z",
          "shell.execute_reply": "2023-07-27T05:48:29.937354Z"
        },
        "papermill": {
          "duration": 0.026904,
          "end_time": "2023-07-27T05:48:29.939613",
          "exception": false,
          "start_time": "2023-07-27T05:48:29.912709",
          "status": "completed"
        },
        "tags": [],
        "id": "5a7cc827",
        "outputId": "9c9792e5-5a02-4a03-97cd-d79a7f056765"
      },
      "outputs": [
        {
          "data": {
            "text/plain": [
              "array(['Royal Challengers Bangalore', 'Chennai Super Kings',\n",
              "       'Rajasthan Royals', 'Mumbai Indians', 'Deccan Chargers',\n",
              "       'Kings XI Punjab', 'Kolkata Knight Riders', 'Delhi Daredevils',\n",
              "       'Kochi Tuskers Kerala', 'Pune Warriors', 'Sunrisers Hyderabad',\n",
              "       'Gujarat Lions', 'Rising Pune Supergiants',\n",
              "       'Rising Pune Supergiant', 'Delhi Capitals'], dtype=object)"
            ]
          },
          "execution_count": 10,
          "metadata": {},
          "output_type": "execute_result"
        }
      ],
      "source": [
        "# Get unique values in the 'toss_winner' column\n",
        "data['toss_winner'].unique()"
      ]
    },
    {
      "cell_type": "code",
      "execution_count": null,
      "id": "dbbe187e",
      "metadata": {
        "execution": {
          "iopub.execute_input": "2023-07-27T05:48:29.977197Z",
          "iopub.status.busy": "2023-07-27T05:48:29.976777Z",
          "iopub.status.idle": "2023-07-27T05:48:30.009917Z",
          "shell.execute_reply": "2023-07-27T05:48:30.008904Z"
        },
        "papermill": {
          "duration": 0.054323,
          "end_time": "2023-07-27T05:48:30.012272",
          "exception": false,
          "start_time": "2023-07-27T05:48:29.957949",
          "status": "completed"
        },
        "tags": [],
        "id": "dbbe187e"
      },
      "outputs": [],
      "source": [
        "# Replacing 'Rising Pune Supergiants' with 'Rising Pune Supergiant' in the 'team1', 'team2', 'winner', and 'toss_winner' columns.\n",
        "data.team1.replace({'Rising Pune Supergiants': 'Rising Pune Supergiant'}, regex=True, inplace=True)\n",
        "data.team2.replace({'Rising Pune Supergiants': 'Rising Pune Supergiant'}, regex=True, inplace=True)\n",
        "data.winner.replace({'Rising Pune Supergiants': 'Rising Pune Supergiant'}, regex=True, inplace=True)\n",
        "data.toss_winner.replace({'Rising Pune Supergiants': 'Rising Pune Supergiant'}, regex=True, inplace=True)\n",
        "\n",
        "# Replacing 'Deccan Chargers' with 'Sunrisers Hyderabad' in the 'team1', 'team2', 'winner', and 'toss_winner' columns.\n",
        "data.team1.replace({'Deccan Chargers': 'Sunrisers Hyderabad'}, regex=True, inplace=True)\n",
        "data.team2.replace({'Deccan Chargers': 'Sunrisers Hyderabad'}, regex=True, inplace=True)\n",
        "data.winner.replace({'Deccan Chargers': 'Sunrisers Hyderabad'}, regex=True, inplace=True)\n",
        "data.toss_winner.replace({'Deccan Chargers': 'Sunrisers Hyderabad'}, regex=True, inplace=True)\n",
        "\n",
        "# Replacing 'Delhi Daredevils' with 'Delhi Capitals' in the 'team1', 'team2', 'winner', and 'toss_winner' columns.\n",
        "data.team1.replace({'Delhi Daredevils': 'Delhi Capitals'}, regex=True, inplace=True)\n",
        "data.team2.replace({'Delhi Daredevils': 'Delhi Capitals'}, regex=True, inplace=True)\n",
        "data.winner.replace({'Delhi Daredevils': 'Delhi Capitals'}, regex=True, inplace=True)\n",
        "data.toss_winner.replace({'Delhi Daredevils': 'Delhi Capitals'}, regex=True, inplace=True)\n",
        "\n",
        "# Replacing 'Pune Warriors' with 'Rising Pune Supergiant' in the 'team1', 'team2', 'winner', and 'toss_winner' columns.\n",
        "data.team1.replace({'Pune Warriors': 'Rising Pune Supergiant'}, regex=True, inplace=True)\n",
        "data.team2.replace({'Pune Warriors': 'Rising Pune Supergiant'}, regex=True, inplace=True)\n",
        "data.winner.replace({'Pune Warriors': 'Rising Pune Supergiant'}, regex=True, inplace=True)\n",
        "data.toss_winner.replace({'Pune Warriors': 'Rising Pune Supergiant'}, regex=True, inplace=True)"
      ]
    },
    {
      "cell_type": "markdown",
      "id": "b7f589f7",
      "metadata": {
        "papermill": {
          "duration": 0.018108,
          "end_time": "2023-07-27T05:48:30.048221",
          "exception": false,
          "start_time": "2023-07-27T05:48:30.030113",
          "status": "completed"
        },
        "tags": [],
        "id": "b7f589f7"
      },
      "source": [
        "The above code is used to standardize and clean up the team names in the dataset. There are inconsistencies in the team names, and some teams have multiple variations in their names, such as \"Rising Pune Supergiant\" as \"Rising Pune Supergiants,\" \"Sunrisers Hyderabad\" as \"Deccan Chargers\" and \"Delhi Capitals\" as \"Delhi Daredevils\".\n",
        "\n",
        "By performing these replacements, we ensure that all team names are consistent and represented with the correct name throughout the dataset. This is important because when building models or performing data analysis, having consistent and clean data is crucial for accurate and meaningful results."
      ]
    },
    {
      "cell_type": "markdown",
      "id": "446dea17",
      "metadata": {
        "papermill": {
          "duration": 0.018449,
          "end_time": "2023-07-27T05:48:30.175033",
          "exception": false,
          "start_time": "2023-07-27T05:48:30.156584",
          "status": "completed"
        },
        "tags": [],
        "id": "446dea17"
      },
      "source": [
        "# **Checking NULL Values**"
      ]
    },
    {
      "cell_type": "code",
      "execution_count": null,
      "id": "25ba318b",
      "metadata": {
        "execution": {
          "iopub.execute_input": "2023-07-27T05:48:30.214766Z",
          "iopub.status.busy": "2023-07-27T05:48:30.214390Z",
          "iopub.status.idle": "2023-07-27T05:48:30.224351Z",
          "shell.execute_reply": "2023-07-27T05:48:30.222969Z"
        },
        "papermill": {
          "duration": 0.032877,
          "end_time": "2023-07-27T05:48:30.226767",
          "exception": false,
          "start_time": "2023-07-27T05:48:30.193890",
          "status": "completed"
        },
        "tags": [],
        "id": "25ba318b",
        "outputId": "40acaa37-6f71-4ec0-b2a9-79e93c487481"
      },
      "outputs": [
        {
          "data": {
            "text/plain": [
              "id                   0\n",
              "city                13\n",
              "date                 0\n",
              "player_of_match      4\n",
              "venue                0\n",
              "neutral_venue        0\n",
              "team1                0\n",
              "team2                0\n",
              "toss_winner          0\n",
              "toss_decision        0\n",
              "winner               4\n",
              "result               4\n",
              "result_margin       17\n",
              "eliminator           4\n",
              "method             797\n",
              "umpire1              0\n",
              "umpire2              0\n",
              "dtype: int64"
            ]
          },
          "execution_count": 13,
          "metadata": {},
          "output_type": "execute_result"
        }
      ],
      "source": [
        "# To count the null values\n",
        "data.isnull().sum()"
      ]
    },
    {
      "cell_type": "code",
      "execution_count": null,
      "id": "76c9b020",
      "metadata": {
        "execution": {
          "iopub.execute_input": "2023-07-27T05:48:30.265764Z",
          "iopub.status.busy": "2023-07-27T05:48:30.265394Z",
          "iopub.status.idle": "2023-07-27T05:48:30.271593Z",
          "shell.execute_reply": "2023-07-27T05:48:30.269945Z"
        },
        "papermill": {
          "duration": 0.028743,
          "end_time": "2023-07-27T05:48:30.274234",
          "exception": false,
          "start_time": "2023-07-27T05:48:30.245491",
          "status": "completed"
        },
        "tags": [],
        "id": "76c9b020"
      },
      "outputs": [],
      "source": [
        "# Fill missing values in 'city' column with 'Unknown'\n",
        "data['city'].fillna('Unknown', inplace=True)"
      ]
    },
    {
      "cell_type": "code",
      "execution_count": null,
      "id": "e6cbb710",
      "metadata": {
        "execution": {
          "iopub.execute_input": "2023-07-27T05:48:30.313879Z",
          "iopub.status.busy": "2023-07-27T05:48:30.313528Z",
          "iopub.status.idle": "2023-07-27T05:48:30.321333Z",
          "shell.execute_reply": "2023-07-27T05:48:30.320225Z"
        },
        "papermill": {
          "duration": 0.02936,
          "end_time": "2023-07-27T05:48:30.323309",
          "exception": false,
          "start_time": "2023-07-27T05:48:30.293949",
          "status": "completed"
        },
        "tags": [],
        "id": "e6cbb710"
      },
      "outputs": [],
      "source": [
        "# Fill missing values in 'player_of_match', 'result', and 'eliminator' columns with 'Not Available'\n",
        "cols_to_fill = ['player_of_match', 'result', 'eliminator']\n",
        "data[cols_to_fill] = data[cols_to_fill].fillna('Not Available')"
      ]
    },
    {
      "cell_type": "code",
      "execution_count": null,
      "id": "3b5092a5",
      "metadata": {
        "execution": {
          "iopub.execute_input": "2023-07-27T05:48:30.362286Z",
          "iopub.status.busy": "2023-07-27T05:48:30.361905Z",
          "iopub.status.idle": "2023-07-27T05:48:30.368047Z",
          "shell.execute_reply": "2023-07-27T05:48:30.366811Z"
        },
        "papermill": {
          "duration": 0.028234,
          "end_time": "2023-07-27T05:48:30.370438",
          "exception": false,
          "start_time": "2023-07-27T05:48:30.342204",
          "status": "completed"
        },
        "tags": [],
        "id": "3b5092a5"
      },
      "outputs": [],
      "source": [
        "# Calculate the mean of the 'result_margin' column\n",
        "mean_result_margin = data['result_margin'].mean()\n",
        "\n",
        "# Fill missing values in 'result_margin' column with the mean\n",
        "data['result_margin'].fillna(mean_result_margin, inplace=True)"
      ]
    },
    {
      "cell_type": "code",
      "execution_count": null,
      "id": "f11b9e8e",
      "metadata": {
        "execution": {
          "iopub.execute_input": "2023-07-27T05:48:30.408718Z",
          "iopub.status.busy": "2023-07-27T05:48:30.408372Z",
          "iopub.status.idle": "2023-07-27T05:48:30.415261Z",
          "shell.execute_reply": "2023-07-27T05:48:30.413594Z"
        },
        "papermill": {
          "duration": 0.029108,
          "end_time": "2023-07-27T05:48:30.417765",
          "exception": false,
          "start_time": "2023-07-27T05:48:30.388657",
          "status": "completed"
        },
        "tags": [],
        "id": "f11b9e8e"
      },
      "outputs": [],
      "source": [
        "# To drop the unwanted columns\n",
        "data.drop(['id','method'],axis=1,inplace=True)"
      ]
    },
    {
      "cell_type": "code",
      "execution_count": null,
      "id": "cc6be47d",
      "metadata": {
        "execution": {
          "iopub.execute_input": "2023-07-27T05:48:30.456435Z",
          "iopub.status.busy": "2023-07-27T05:48:30.455558Z",
          "iopub.status.idle": "2023-07-27T05:48:30.463265Z",
          "shell.execute_reply": "2023-07-27T05:48:30.462421Z"
        },
        "papermill": {
          "duration": 0.02875,
          "end_time": "2023-07-27T05:48:30.465045",
          "exception": false,
          "start_time": "2023-07-27T05:48:30.436295",
          "status": "completed"
        },
        "tags": [],
        "id": "cc6be47d"
      },
      "outputs": [],
      "source": [
        "# Drop rows with missing values in the 'winner' column\n",
        "data.dropna(subset=['winner'], inplace=True)\n"
      ]
    },
    {
      "cell_type": "code",
      "execution_count": null,
      "id": "68570389",
      "metadata": {
        "execution": {
          "iopub.execute_input": "2023-07-27T05:48:30.502426Z",
          "iopub.status.busy": "2023-07-27T05:48:30.502055Z",
          "iopub.status.idle": "2023-07-27T05:48:30.512439Z",
          "shell.execute_reply": "2023-07-27T05:48:30.511504Z"
        },
        "papermill": {
          "duration": 0.031285,
          "end_time": "2023-07-27T05:48:30.514302",
          "exception": false,
          "start_time": "2023-07-27T05:48:30.483017",
          "status": "completed"
        },
        "tags": [],
        "id": "68570389",
        "outputId": "f3c9137c-22d9-4860-ba76-d4573b141aaa"
      },
      "outputs": [
        {
          "data": {
            "text/plain": [
              "city               0\n",
              "date               0\n",
              "player_of_match    0\n",
              "venue              0\n",
              "neutral_venue      0\n",
              "team1              0\n",
              "team2              0\n",
              "toss_winner        0\n",
              "toss_decision      0\n",
              "winner             0\n",
              "result             0\n",
              "result_margin      0\n",
              "eliminator         0\n",
              "umpire1            0\n",
              "umpire2            0\n",
              "dtype: int64"
            ]
          },
          "execution_count": 19,
          "metadata": {},
          "output_type": "execute_result"
        }
      ],
      "source": [
        "# To count the null values\n",
        "data.isnull().sum()"
      ]
    },
    {
      "cell_type": "code",
      "execution_count": null,
      "id": "bbd2cadd",
      "metadata": {
        "execution": {
          "iopub.execute_input": "2023-07-27T05:48:30.553804Z",
          "iopub.status.busy": "2023-07-27T05:48:30.553477Z",
          "iopub.status.idle": "2023-07-27T05:48:30.559807Z",
          "shell.execute_reply": "2023-07-27T05:48:30.558527Z"
        },
        "papermill": {
          "duration": 0.028525,
          "end_time": "2023-07-27T05:48:30.561857",
          "exception": false,
          "start_time": "2023-07-27T05:48:30.533332",
          "status": "completed"
        },
        "tags": [],
        "id": "bbd2cadd",
        "outputId": "d62cb30e-be20-41b8-deac-2d47feda18d4"
      },
      "outputs": [
        {
          "data": {
            "text/plain": [
              "(812, 15)"
            ]
          },
          "execution_count": 20,
          "metadata": {},
          "output_type": "execute_result"
        }
      ],
      "source": [
        "# Checking the shape of our data after handling null values\n",
        "data.shape"
      ]
    },
    {
      "cell_type": "code",
      "execution_count": null,
      "id": "2e60fead",
      "metadata": {
        "execution": {
          "iopub.execute_input": "2023-07-27T05:48:30.600724Z",
          "iopub.status.busy": "2023-07-27T05:48:30.600345Z",
          "iopub.status.idle": "2023-07-27T05:48:30.608530Z",
          "shell.execute_reply": "2023-07-27T05:48:30.607683Z"
        },
        "papermill": {
          "duration": 0.030117,
          "end_time": "2023-07-27T05:48:30.610688",
          "exception": false,
          "start_time": "2023-07-27T05:48:30.580571",
          "status": "completed"
        },
        "tags": [],
        "id": "2e60fead"
      },
      "outputs": [],
      "source": [
        "# Convert the 'date' column to datetime format\n",
        "data['date'] = pd.to_datetime(data['date'])\n",
        "\n",
        "# Extract the year from the 'date' column and create a new 'season' column\n",
        "data['season'] = pd.DatetimeIndex(data['date']).year"
      ]
    },
    {
      "cell_type": "code",
      "execution_count": null,
      "id": "e15cd142",
      "metadata": {
        "execution": {
          "iopub.execute_input": "2023-07-27T05:48:30.649878Z",
          "iopub.status.busy": "2023-07-27T05:48:30.649510Z",
          "iopub.status.idle": "2023-07-27T05:48:30.669204Z",
          "shell.execute_reply": "2023-07-27T05:48:30.667831Z"
        },
        "papermill": {
          "duration": 0.04198,
          "end_time": "2023-07-27T05:48:30.671305",
          "exception": false,
          "start_time": "2023-07-27T05:48:30.629325",
          "status": "completed"
        },
        "tags": [],
        "id": "e15cd142",
        "outputId": "9db6d563-fde8-46fe-d6c2-922def418dc4"
      },
      "outputs": [
        {
          "data": {
            "text/html": [
              "<div>\n",
              "<style scoped>\n",
              "    .dataframe tbody tr th:only-of-type {\n",
              "        vertical-align: middle;\n",
              "    }\n",
              "\n",
              "    .dataframe tbody tr th {\n",
              "        vertical-align: top;\n",
              "    }\n",
              "\n",
              "    .dataframe thead th {\n",
              "        text-align: right;\n",
              "    }\n",
              "</style>\n",
              "<table border=\"1\" class=\"dataframe\">\n",
              "  <thead>\n",
              "    <tr style=\"text-align: right;\">\n",
              "      <th></th>\n",
              "      <th>city</th>\n",
              "      <th>date</th>\n",
              "      <th>player_of_match</th>\n",
              "      <th>venue</th>\n",
              "      <th>neutral_venue</th>\n",
              "      <th>team1</th>\n",
              "      <th>team2</th>\n",
              "      <th>toss_winner</th>\n",
              "      <th>toss_decision</th>\n",
              "      <th>winner</th>\n",
              "      <th>result</th>\n",
              "      <th>result_margin</th>\n",
              "      <th>eliminator</th>\n",
              "      <th>umpire1</th>\n",
              "      <th>umpire2</th>\n",
              "      <th>season</th>\n",
              "    </tr>\n",
              "  </thead>\n",
              "  <tbody>\n",
              "    <tr>\n",
              "      <th>0</th>\n",
              "      <td>Bangalore</td>\n",
              "      <td>2008-04-18</td>\n",
              "      <td>BB McCullum</td>\n",
              "      <td>M Chinnaswamy Stadium</td>\n",
              "      <td>0</td>\n",
              "      <td>Royal Challengers Bangalore</td>\n",
              "      <td>Kolkata Knight Riders</td>\n",
              "      <td>Royal Challengers Bangalore</td>\n",
              "      <td>field</td>\n",
              "      <td>Kolkata Knight Riders</td>\n",
              "      <td>runs</td>\n",
              "      <td>140.0</td>\n",
              "      <td>N</td>\n",
              "      <td>Asad Rauf</td>\n",
              "      <td>RE Koertzen</td>\n",
              "      <td>2008</td>\n",
              "    </tr>\n",
              "    <tr>\n",
              "      <th>1</th>\n",
              "      <td>Chandigarh</td>\n",
              "      <td>2008-04-19</td>\n",
              "      <td>MEK Hussey</td>\n",
              "      <td>Punjab Cricket Association Stadium, Mohali</td>\n",
              "      <td>0</td>\n",
              "      <td>Kings XI Punjab</td>\n",
              "      <td>Chennai Super Kings</td>\n",
              "      <td>Chennai Super Kings</td>\n",
              "      <td>bat</td>\n",
              "      <td>Chennai Super Kings</td>\n",
              "      <td>runs</td>\n",
              "      <td>33.0</td>\n",
              "      <td>N</td>\n",
              "      <td>MR Benson</td>\n",
              "      <td>SL Shastri</td>\n",
              "      <td>2008</td>\n",
              "    </tr>\n",
              "    <tr>\n",
              "      <th>2</th>\n",
              "      <td>Delhi</td>\n",
              "      <td>2008-04-19</td>\n",
              "      <td>MF Maharoof</td>\n",
              "      <td>Feroz Shah Kotla</td>\n",
              "      <td>0</td>\n",
              "      <td>Delhi Capitals</td>\n",
              "      <td>Rajasthan Royals</td>\n",
              "      <td>Rajasthan Royals</td>\n",
              "      <td>bat</td>\n",
              "      <td>Delhi Capitals</td>\n",
              "      <td>wickets</td>\n",
              "      <td>9.0</td>\n",
              "      <td>N</td>\n",
              "      <td>Aleem Dar</td>\n",
              "      <td>GA Pratapkumar</td>\n",
              "      <td>2008</td>\n",
              "    </tr>\n",
              "    <tr>\n",
              "      <th>3</th>\n",
              "      <td>Mumbai</td>\n",
              "      <td>2008-04-20</td>\n",
              "      <td>MV Boucher</td>\n",
              "      <td>Wankhede Stadium</td>\n",
              "      <td>0</td>\n",
              "      <td>Mumbai Indians</td>\n",
              "      <td>Royal Challengers Bangalore</td>\n",
              "      <td>Mumbai Indians</td>\n",
              "      <td>bat</td>\n",
              "      <td>Royal Challengers Bangalore</td>\n",
              "      <td>wickets</td>\n",
              "      <td>5.0</td>\n",
              "      <td>N</td>\n",
              "      <td>SJ Davis</td>\n",
              "      <td>DJ Harper</td>\n",
              "      <td>2008</td>\n",
              "    </tr>\n",
              "    <tr>\n",
              "      <th>4</th>\n",
              "      <td>Kolkata</td>\n",
              "      <td>2008-04-20</td>\n",
              "      <td>DJ Hussey</td>\n",
              "      <td>Eden Gardens</td>\n",
              "      <td>0</td>\n",
              "      <td>Kolkata Knight Riders</td>\n",
              "      <td>Sunrisers Hyderabad</td>\n",
              "      <td>Sunrisers Hyderabad</td>\n",
              "      <td>bat</td>\n",
              "      <td>Kolkata Knight Riders</td>\n",
              "      <td>wickets</td>\n",
              "      <td>5.0</td>\n",
              "      <td>N</td>\n",
              "      <td>BF Bowden</td>\n",
              "      <td>K Hariharan</td>\n",
              "      <td>2008</td>\n",
              "    </tr>\n",
              "  </tbody>\n",
              "</table>\n",
              "</div>"
            ],
            "text/plain": [
              "         city       date player_of_match  \\\n",
              "0   Bangalore 2008-04-18     BB McCullum   \n",
              "1  Chandigarh 2008-04-19      MEK Hussey   \n",
              "2       Delhi 2008-04-19     MF Maharoof   \n",
              "3      Mumbai 2008-04-20      MV Boucher   \n",
              "4     Kolkata 2008-04-20       DJ Hussey   \n",
              "\n",
              "                                        venue  neutral_venue  \\\n",
              "0                       M Chinnaswamy Stadium              0   \n",
              "1  Punjab Cricket Association Stadium, Mohali              0   \n",
              "2                            Feroz Shah Kotla              0   \n",
              "3                            Wankhede Stadium              0   \n",
              "4                                Eden Gardens              0   \n",
              "\n",
              "                         team1                        team2  \\\n",
              "0  Royal Challengers Bangalore        Kolkata Knight Riders   \n",
              "1              Kings XI Punjab          Chennai Super Kings   \n",
              "2               Delhi Capitals             Rajasthan Royals   \n",
              "3               Mumbai Indians  Royal Challengers Bangalore   \n",
              "4        Kolkata Knight Riders          Sunrisers Hyderabad   \n",
              "\n",
              "                   toss_winner toss_decision                       winner  \\\n",
              "0  Royal Challengers Bangalore         field        Kolkata Knight Riders   \n",
              "1          Chennai Super Kings           bat          Chennai Super Kings   \n",
              "2             Rajasthan Royals           bat               Delhi Capitals   \n",
              "3               Mumbai Indians           bat  Royal Challengers Bangalore   \n",
              "4          Sunrisers Hyderabad           bat        Kolkata Knight Riders   \n",
              "\n",
              "    result  result_margin eliminator    umpire1         umpire2  season  \n",
              "0     runs          140.0          N  Asad Rauf     RE Koertzen    2008  \n",
              "1     runs           33.0          N  MR Benson      SL Shastri    2008  \n",
              "2  wickets            9.0          N  Aleem Dar  GA Pratapkumar    2008  \n",
              "3  wickets            5.0          N   SJ Davis       DJ Harper    2008  \n",
              "4  wickets            5.0          N  BF Bowden     K Hariharan    2008  "
            ]
          },
          "execution_count": 22,
          "metadata": {},
          "output_type": "execute_result"
        }
      ],
      "source": [
        "# displaying our data\n",
        "data.head()"
      ]
    },
    {
      "cell_type": "markdown",
      "id": "23660a7c",
      "metadata": {
        "papermill": {
          "duration": 0.028462,
          "end_time": "2023-07-27T05:48:37.687023",
          "exception": false,
          "start_time": "2023-07-27T05:48:37.658561",
          "status": "completed"
        },
        "tags": [],
        "id": "23660a7c"
      },
      "source": [
        "# **Data Preparation**"
      ]
    },
    {
      "cell_type": "code",
      "execution_count": null,
      "id": "a6287449",
      "metadata": {
        "execution": {
          "iopub.execute_input": "2023-07-27T05:48:37.744789Z",
          "iopub.status.busy": "2023-07-27T05:48:37.744432Z",
          "iopub.status.idle": "2023-07-27T05:48:37.750309Z",
          "shell.execute_reply": "2023-07-27T05:48:37.749277Z"
        },
        "papermill": {
          "duration": 0.0373,
          "end_time": "2023-07-27T05:48:37.752610",
          "exception": false,
          "start_time": "2023-07-27T05:48:37.715310",
          "status": "completed"
        },
        "tags": [],
        "id": "a6287449",
        "outputId": "46501fbd-2613-4356-d992-8ba570f8b8a0"
      },
      "outputs": [
        {
          "data": {
            "text/plain": [
              "Index(['city', 'date', 'player_of_match', 'venue', 'neutral_venue', 'team1',\n",
              "       'team2', 'toss_winner', 'toss_decision', 'winner', 'result',\n",
              "       'result_margin', 'eliminator', 'umpire1', 'umpire2', 'season', 'day',\n",
              "       'month', 'year'],\n",
              "      dtype='object')"
            ]
          },
          "execution_count": 45,
          "metadata": {},
          "output_type": "execute_result"
        }
      ],
      "source": [
        "# To display the columns of the data\n",
        "data.columns"
      ]
    },
    {
      "cell_type": "code",
      "execution_count": null,
      "id": "d8706df9",
      "metadata": {
        "execution": {
          "iopub.execute_input": "2023-07-27T05:48:37.809972Z",
          "iopub.status.busy": "2023-07-27T05:48:37.809342Z",
          "iopub.status.idle": "2023-07-27T05:48:37.816892Z",
          "shell.execute_reply": "2023-07-27T05:48:37.815465Z"
        },
        "papermill": {
          "duration": 0.038055,
          "end_time": "2023-07-27T05:48:37.818669",
          "exception": false,
          "start_time": "2023-07-27T05:48:37.780614",
          "status": "completed"
        },
        "tags": [],
        "id": "d8706df9",
        "outputId": "3e13b8d8-7e0a-4c8d-f7d0-df0065633b82"
      },
      "outputs": [
        {
          "data": {
            "text/plain": [
              "array(['Kolkata Knight Riders', 'Chennai Super Kings', 'Delhi Capitals',\n",
              "       'Royal Challengers Bangalore', 'Rajasthan Royals',\n",
              "       'Kings XI Punjab', 'Sunrisers Hyderabad', 'Mumbai Indians',\n",
              "       'Rising Pune Supergiant', 'Kochi Tuskers Kerala', 'Gujarat Lions'],\n",
              "      dtype=object)"
            ]
          },
          "execution_count": 46,
          "metadata": {},
          "output_type": "execute_result"
        }
      ],
      "source": [
        "## Get the unique venues present in the 'winner' column\n",
        "data['winner'].unique()"
      ]
    },
    {
      "cell_type": "markdown",
      "id": "9e625fda",
      "metadata": {
        "papermill": {
          "duration": 0.027305,
          "end_time": "2023-07-27T05:48:37.873456",
          "exception": false,
          "start_time": "2023-07-27T05:48:37.846151",
          "status": "completed"
        },
        "tags": [],
        "id": "9e625fda"
      },
      "source": [
        "### **Mapping Categorical data into numerical form**\n",
        "The purpose of this conversion is to transform the categorical data (team names) into numerical form, which is required for many machine learning algorithms that can only handle numerical data. By mapping team names to unique numbers, we can represent them as numerical features in the dataset, enabling us to use them in the model training process."
      ]
    },
    {
      "cell_type": "code",
      "execution_count": null,
      "id": "a6f70f3f",
      "metadata": {
        "execution": {
          "iopub.execute_input": "2023-07-27T05:48:37.932311Z",
          "iopub.status.busy": "2023-07-27T05:48:37.931656Z",
          "iopub.status.idle": "2023-07-27T05:48:37.941265Z",
          "shell.execute_reply": "2023-07-27T05:48:37.940503Z"
        },
        "papermill": {
          "duration": 0.042681,
          "end_time": "2023-07-27T05:48:37.943466",
          "exception": false,
          "start_time": "2023-07-27T05:48:37.900785",
          "status": "completed"
        },
        "tags": [],
        "id": "a6f70f3f"
      },
      "outputs": [],
      "source": [
        "# Create a dictionary to map team names to unique numbers\n",
        "team_mapping = {\n",
        "    'Kolkata Knight Riders': 1,\n",
        "    'Chennai Super Kings': 2,\n",
        "    'Delhi Capitals': 3,\n",
        "    'Royal Challengers Bangalore': 4,\n",
        "    'Rajasthan Royals': 5,\n",
        "    'Kings XI Punjab': 6,\n",
        "    'Sunrisers Hyderabad': 7,\n",
        "    'Mumbai Indians': 8,\n",
        "    'Rising Pune Supergiant': 9,\n",
        "    'Kochi Tuskers Kerala': 10,\n",
        "    'Gujarat Lions': 11\n",
        "}\n",
        "\n",
        "# Replace team names in 'team1' and 'team2' columns with unique numbers\n",
        "data['team1'] = data['team1'].map(team_mapping)\n",
        "data['team2'] = data['team2'].map(team_mapping)\n",
        "\n",
        "# Replace winner names in 'winner' column with unique numbers\n",
        "data['winner'] = data['winner'].map(team_mapping)\n",
        "data['toss_winner'] = data['toss_winner'].map(team_mapping)\n"
      ]
    },
    {
      "cell_type": "markdown",
      "id": "6b67a3b4",
      "metadata": {
        "papermill": {
          "duration": 0.026962,
          "end_time": "2023-07-27T05:48:37.998057",
          "exception": false,
          "start_time": "2023-07-27T05:48:37.971095",
          "status": "completed"
        },
        "tags": [],
        "id": "6b67a3b4"
      },
      "source": [
        "\n",
        "We create a dictionary team_mapping where each team name is mapped to a corresponding unique number. Then, we use the map function in Pandas to replace the team names in the 'team1', 'team2', 'winner', and 'toss_winner' columns with their respective unique numerical values."
      ]
    },
    {
      "cell_type": "code",
      "execution_count": null,
      "id": "7b4d9958",
      "metadata": {
        "execution": {
          "iopub.execute_input": "2023-07-27T05:48:38.120255Z",
          "iopub.status.busy": "2023-07-27T05:48:38.119587Z",
          "iopub.status.idle": "2023-07-27T05:48:38.126254Z",
          "shell.execute_reply": "2023-07-27T05:48:38.125169Z"
        },
        "papermill": {
          "duration": 0.037743,
          "end_time": "2023-07-27T05:48:38.128444",
          "exception": false,
          "start_time": "2023-07-27T05:48:38.090701",
          "status": "completed"
        },
        "tags": [],
        "id": "7b4d9958"
      },
      "outputs": [],
      "source": [
        "# Create a dictionary to map each unique venue name to a unique number\n",
        "venue_mapping = {venue: i for i, venue in enumerate(data['venue'].unique())}\n",
        "\n",
        "# Replace the venue names in the 'venue' column with the corresponding unique numbers\n",
        "data['venue'] = data['venue'].map(venue_mapping)"
      ]
    },
    {
      "cell_type": "code",
      "execution_count": null,
      "id": "d9e40ec1",
      "metadata": {
        "execution": {
          "iopub.execute_input": "2023-07-27T05:48:38.188855Z",
          "iopub.status.busy": "2023-07-27T05:48:38.188208Z",
          "iopub.status.idle": "2023-07-27T05:48:38.193814Z",
          "shell.execute_reply": "2023-07-27T05:48:38.193174Z"
        },
        "papermill": {
          "duration": 0.037974,
          "end_time": "2023-07-27T05:48:38.195827",
          "exception": false,
          "start_time": "2023-07-27T05:48:38.157853",
          "status": "completed"
        },
        "tags": [],
        "id": "d9e40ec1",
        "outputId": "9e9f61af-a340-4b71-d6ad-a9befce97a86"
      },
      "outputs": [
        {
          "data": {
            "text/plain": [
              "array(['field', 'bat'], dtype=object)"
            ]
          },
          "execution_count": 50,
          "metadata": {},
          "output_type": "execute_result"
        }
      ],
      "source": [
        "# Get the unique venues present in the 'toss_decsion' column\n",
        "data['toss_decision'].unique()"
      ]
    },
    {
      "cell_type": "code",
      "execution_count": null,
      "id": "88c28bec",
      "metadata": {
        "execution": {
          "iopub.execute_input": "2023-07-27T05:48:38.254913Z",
          "iopub.status.busy": "2023-07-27T05:48:38.254307Z",
          "iopub.status.idle": "2023-07-27T05:48:38.260718Z",
          "shell.execute_reply": "2023-07-27T05:48:38.259603Z"
        },
        "papermill": {
          "duration": 0.038802,
          "end_time": "2023-07-27T05:48:38.263424",
          "exception": false,
          "start_time": "2023-07-27T05:48:38.224622",
          "status": "completed"
        },
        "tags": [],
        "id": "88c28bec"
      },
      "outputs": [],
      "source": [
        "# Create a dictionary to map 'toss_decision' values to numerical values\n",
        "temp = {'field': 0, 'bat': 1}\n",
        "\n",
        "# Use the map() function to replace 'toss_decision' values with numerical values\n",
        "data['toss_decision'] = data['toss_decision'].map(temp)"
      ]
    },
    {
      "cell_type": "code",
      "execution_count": null,
      "id": "bce48f86",
      "metadata": {
        "execution": {
          "iopub.execute_input": "2023-07-27T05:48:38.321070Z",
          "iopub.status.busy": "2023-07-27T05:48:38.320756Z",
          "iopub.status.idle": "2023-07-27T05:48:38.330279Z",
          "shell.execute_reply": "2023-07-27T05:48:38.329000Z"
        },
        "papermill": {
          "duration": 0.040715,
          "end_time": "2023-07-27T05:48:38.332512",
          "exception": false,
          "start_time": "2023-07-27T05:48:38.291797",
          "status": "completed"
        },
        "tags": [],
        "id": "bce48f86"
      },
      "outputs": [],
      "source": [
        "# Create a set of unique umpires\n",
        "umpires_set = set(data['umpire1'].unique()).union(set(data['umpire2'].unique()))\n",
        "\n",
        "# Create a dictionary to map umpire names to unique numbers\n",
        "umpire_dict = {umpire: i for i, umpire in enumerate(umpires_set, 1)}\n",
        "\n",
        "# Apply the dictionary to create new encoded columns for 'umpire1' and 'umpire2'\n",
        "data['umpire1'] = data['umpire1'].map(umpire_dict)\n",
        "data['umpire2'] = data['umpire2'].map(umpire_dict)\n"
      ]
    },
    {
      "cell_type": "code",
      "execution_count": null,
      "id": "26b9b402",
      "metadata": {
        "execution": {
          "iopub.execute_input": "2023-07-27T05:48:38.391452Z",
          "iopub.status.busy": "2023-07-27T05:48:38.390467Z",
          "iopub.status.idle": "2023-07-27T05:48:38.397273Z",
          "shell.execute_reply": "2023-07-27T05:48:38.396564Z"
        },
        "papermill": {
          "duration": 0.038533,
          "end_time": "2023-07-27T05:48:38.399724",
          "exception": false,
          "start_time": "2023-07-27T05:48:38.361191",
          "status": "completed"
        },
        "tags": [],
        "id": "26b9b402"
      },
      "outputs": [],
      "source": [
        "# Create a dictionary to map each unique venue name to a unique number\n",
        "player_of_match_mapping = {venue: i for i, venue in enumerate(data['player_of_match'].unique())}\n",
        "\n",
        "# Replace the venue names in the 'venue' column with the corresponding unique numbers\n",
        "data['player_of_match'] = data['player_of_match'].map(player_of_match_mapping)"
      ]
    },
    {
      "cell_type": "code",
      "execution_count": null,
      "id": "48550212",
      "metadata": {
        "execution": {
          "iopub.execute_input": "2023-07-27T05:48:38.459774Z",
          "iopub.status.busy": "2023-07-27T05:48:38.458528Z",
          "iopub.status.idle": "2023-07-27T05:48:38.464982Z",
          "shell.execute_reply": "2023-07-27T05:48:38.464340Z"
        },
        "papermill": {
          "duration": 0.038084,
          "end_time": "2023-07-27T05:48:38.467436",
          "exception": false,
          "start_time": "2023-07-27T05:48:38.429352",
          "status": "completed"
        },
        "tags": [],
        "id": "48550212"
      },
      "outputs": [],
      "source": [
        "# Create a dictionary to map each unique venue name to a unique number\n",
        "city_mapping = {venue: i for i, venue in enumerate(data['city'].unique())}\n",
        "\n",
        "# Replace the venue names in the 'venue' column with the corresponding unique numbers\n",
        "data['city'] = data['city'].map(city_mapping)"
      ]
    },
    {
      "cell_type": "code",
      "execution_count": null,
      "id": "33cb7d13",
      "metadata": {
        "execution": {
          "iopub.execute_input": "2023-07-27T05:48:38.605969Z",
          "iopub.status.busy": "2023-07-27T05:48:38.605604Z",
          "iopub.status.idle": "2023-07-27T05:48:38.611773Z",
          "shell.execute_reply": "2023-07-27T05:48:38.610611Z"
        },
        "papermill": {
          "duration": 0.038402,
          "end_time": "2023-07-27T05:48:38.613639",
          "exception": false,
          "start_time": "2023-07-27T05:48:38.575237",
          "status": "completed"
        },
        "tags": [],
        "id": "33cb7d13"
      },
      "outputs": [],
      "source": [
        "# List of unwanted columns\n",
        "unwanted_columns = ['date','result','eliminator','season','day','month','year']\n",
        "\n",
        "# Drop the unwanted columns from the DataFrame\n",
        "data.drop(columns=unwanted_columns, inplace=True)\n"
      ]
    },
    {
      "cell_type": "code",
      "execution_count": null,
      "id": "163b35b8",
      "metadata": {
        "execution": {
          "iopub.execute_input": "2023-07-27T05:48:38.675108Z",
          "iopub.status.busy": "2023-07-27T05:48:38.674139Z",
          "iopub.status.idle": "2023-07-27T05:48:38.686097Z",
          "shell.execute_reply": "2023-07-27T05:48:38.685039Z"
        },
        "papermill": {
          "duration": 0.045397,
          "end_time": "2023-07-27T05:48:38.688443",
          "exception": false,
          "start_time": "2023-07-27T05:48:38.643046",
          "status": "completed"
        },
        "tags": [],
        "id": "163b35b8",
        "outputId": "212cdddf-c1fc-4411-8d57-04d2ffa5990f"
      },
      "outputs": [
        {
          "data": {
            "text/html": [
              "<div>\n",
              "<style scoped>\n",
              "    .dataframe tbody tr th:only-of-type {\n",
              "        vertical-align: middle;\n",
              "    }\n",
              "\n",
              "    .dataframe tbody tr th {\n",
              "        vertical-align: top;\n",
              "    }\n",
              "\n",
              "    .dataframe thead th {\n",
              "        text-align: right;\n",
              "    }\n",
              "</style>\n",
              "<table border=\"1\" class=\"dataframe\">\n",
              "  <thead>\n",
              "    <tr style=\"text-align: right;\">\n",
              "      <th></th>\n",
              "      <th>city</th>\n",
              "      <th>player_of_match</th>\n",
              "      <th>venue</th>\n",
              "      <th>neutral_venue</th>\n",
              "      <th>team1</th>\n",
              "      <th>team2</th>\n",
              "      <th>toss_winner</th>\n",
              "      <th>toss_decision</th>\n",
              "      <th>winner</th>\n",
              "      <th>result_margin</th>\n",
              "      <th>umpire1</th>\n",
              "      <th>umpire2</th>\n",
              "    </tr>\n",
              "  </thead>\n",
              "  <tbody>\n",
              "    <tr>\n",
              "      <th>0</th>\n",
              "      <td>0</td>\n",
              "      <td>0</td>\n",
              "      <td>0</td>\n",
              "      <td>0</td>\n",
              "      <td>4</td>\n",
              "      <td>1</td>\n",
              "      <td>4</td>\n",
              "      <td>0</td>\n",
              "      <td>1</td>\n",
              "      <td>140.0</td>\n",
              "      <td>11</td>\n",
              "      <td>41</td>\n",
              "    </tr>\n",
              "    <tr>\n",
              "      <th>1</th>\n",
              "      <td>1</td>\n",
              "      <td>1</td>\n",
              "      <td>1</td>\n",
              "      <td>0</td>\n",
              "      <td>6</td>\n",
              "      <td>2</td>\n",
              "      <td>2</td>\n",
              "      <td>1</td>\n",
              "      <td>2</td>\n",
              "      <td>33.0</td>\n",
              "      <td>52</td>\n",
              "      <td>28</td>\n",
              "    </tr>\n",
              "    <tr>\n",
              "      <th>2</th>\n",
              "      <td>2</td>\n",
              "      <td>2</td>\n",
              "      <td>2</td>\n",
              "      <td>0</td>\n",
              "      <td>3</td>\n",
              "      <td>5</td>\n",
              "      <td>5</td>\n",
              "      <td>1</td>\n",
              "      <td>3</td>\n",
              "      <td>9.0</td>\n",
              "      <td>18</td>\n",
              "      <td>29</td>\n",
              "    </tr>\n",
              "    <tr>\n",
              "      <th>3</th>\n",
              "      <td>3</td>\n",
              "      <td>3</td>\n",
              "      <td>3</td>\n",
              "      <td>0</td>\n",
              "      <td>8</td>\n",
              "      <td>4</td>\n",
              "      <td>8</td>\n",
              "      <td>1</td>\n",
              "      <td>4</td>\n",
              "      <td>5.0</td>\n",
              "      <td>5</td>\n",
              "      <td>13</td>\n",
              "    </tr>\n",
              "    <tr>\n",
              "      <th>4</th>\n",
              "      <td>4</td>\n",
              "      <td>4</td>\n",
              "      <td>4</td>\n",
              "      <td>0</td>\n",
              "      <td>1</td>\n",
              "      <td>7</td>\n",
              "      <td>7</td>\n",
              "      <td>1</td>\n",
              "      <td>1</td>\n",
              "      <td>5.0</td>\n",
              "      <td>48</td>\n",
              "      <td>49</td>\n",
              "    </tr>\n",
              "  </tbody>\n",
              "</table>\n",
              "</div>"
            ],
            "text/plain": [
              "   city  player_of_match  venue  neutral_venue  team1  team2  toss_winner  \\\n",
              "0     0                0      0              0      4      1            4   \n",
              "1     1                1      1              0      6      2            2   \n",
              "2     2                2      2              0      3      5            5   \n",
              "3     3                3      3              0      8      4            8   \n",
              "4     4                4      4              0      1      7            7   \n",
              "\n",
              "   toss_decision  winner  result_margin  umpire1  umpire2  \n",
              "0              0       1          140.0       11       41  \n",
              "1              1       2           33.0       52       28  \n",
              "2              1       3            9.0       18       29  \n",
              "3              1       4            5.0        5       13  \n",
              "4              1       1            5.0       48       49  "
            ]
          },
          "execution_count": 57,
          "metadata": {},
          "output_type": "execute_result"
        }
      ],
      "source": [
        "data.head()"
      ]
    },
    {
      "cell_type": "markdown",
      "id": "7bf1179e",
      "metadata": {
        "papermill": {
          "duration": 0.029495,
          "end_time": "2023-07-27T05:48:39.105294",
          "exception": false,
          "start_time": "2023-07-27T05:48:39.075799",
          "status": "completed"
        },
        "tags": [],
        "id": "7bf1179e"
      },
      "source": [
        "# **Splitting our data**"
      ]
    },
    {
      "cell_type": "code",
      "execution_count": null,
      "id": "17b700e4",
      "metadata": {
        "execution": {
          "iopub.execute_input": "2023-07-27T05:48:39.167390Z",
          "iopub.status.busy": "2023-07-27T05:48:39.167005Z",
          "iopub.status.idle": "2023-07-27T05:48:39.172718Z",
          "shell.execute_reply": "2023-07-27T05:48:39.171801Z"
        },
        "papermill": {
          "duration": 0.040572,
          "end_time": "2023-07-27T05:48:39.175191",
          "exception": false,
          "start_time": "2023-07-27T05:48:39.134619",
          "status": "completed"
        },
        "tags": [],
        "id": "17b700e4"
      },
      "outputs": [],
      "source": [
        "# Split the data into features (X) and the target variable (y)\n",
        "X = data.drop(['winner'], axis=1)\n",
        "y = data['winner']"
      ]
    },
    {
      "cell_type": "code",
      "execution_count": null,
      "id": "edb73517",
      "metadata": {
        "execution": {
          "iopub.execute_input": "2023-07-27T05:48:39.235501Z",
          "iopub.status.busy": "2023-07-27T05:48:39.235114Z",
          "iopub.status.idle": "2023-07-27T05:48:39.244989Z",
          "shell.execute_reply": "2023-07-27T05:48:39.243780Z"
        },
        "papermill": {
          "duration": 0.042172,
          "end_time": "2023-07-27T05:48:39.247045",
          "exception": false,
          "start_time": "2023-07-27T05:48:39.204873",
          "status": "completed"
        },
        "tags": [],
        "id": "edb73517",
        "outputId": "f8a56a81-e157-4129-db20-1074131bbb54"
      },
      "outputs": [
        {
          "name": "stdout",
          "output_type": "stream",
          "text": [
            "X_train shape: (649, 11)\n",
            "y_train shape: (649,)\n",
            "X_test shape: (163, 11)\n",
            "y_test shape: (163,)\n"
          ]
        }
      ],
      "source": [
        "# Split the data into training and testing sets (80% training, 20% testing)\n",
        "X_train, X_test, y_train, y_test = train_test_split(X, y, test_size=0.2, random_state=42)\n",
        "\n",
        "# Display the shapes of the training and testing sets\n",
        "print(\"X_train shape:\", X_train.shape)\n",
        "print(\"y_train shape:\", y_train.shape)\n",
        "print(\"X_test shape:\", X_test.shape)\n",
        "print(\"y_test shape:\", y_test.shape)"
      ]
    },
    {
      "cell_type": "markdown",
      "id": "267bffd2",
      "metadata": {
        "papermill": {
          "duration": 0.029094,
          "end_time": "2023-07-27T05:48:39.305597",
          "exception": false,
          "start_time": "2023-07-27T05:48:39.276503",
          "status": "completed"
        },
        "tags": [],
        "id": "267bffd2"
      },
      "source": [
        "# **Identifying Important features**"
      ]
    },
    {
      "cell_type": "code",
      "execution_count": null,
      "id": "df3c406e",
      "metadata": {
        "execution": {
          "iopub.execute_input": "2023-07-27T05:48:39.364725Z",
          "iopub.status.busy": "2023-07-27T05:48:39.364381Z",
          "iopub.status.idle": "2023-07-27T05:48:40.436792Z",
          "shell.execute_reply": "2023-07-27T05:48:40.435698Z"
        },
        "papermill": {
          "duration": 1.104561,
          "end_time": "2023-07-27T05:48:40.438881",
          "exception": false,
          "start_time": "2023-07-27T05:48:39.334320",
          "status": "completed"
        },
        "tags": [],
        "id": "df3c406e",
        "outputId": "cc647e25-82f8-468e-9e88-f7800db4e98f"
      },
      "outputs": [
        {
          "data": {
            "text/html": [
              "<style>#sk-container-id-1 {color: black;background-color: white;}#sk-container-id-1 pre{padding: 0;}#sk-container-id-1 div.sk-toggleable {background-color: white;}#sk-container-id-1 label.sk-toggleable__label {cursor: pointer;display: block;width: 100%;margin-bottom: 0;padding: 0.3em;box-sizing: border-box;text-align: center;}#sk-container-id-1 label.sk-toggleable__label-arrow:before {content: \"▸\";float: left;margin-right: 0.25em;color: #696969;}#sk-container-id-1 label.sk-toggleable__label-arrow:hover:before {color: black;}#sk-container-id-1 div.sk-estimator:hover label.sk-toggleable__label-arrow:before {color: black;}#sk-container-id-1 div.sk-toggleable__content {max-height: 0;max-width: 0;overflow: hidden;text-align: left;background-color: #f0f8ff;}#sk-container-id-1 div.sk-toggleable__content pre {margin: 0.2em;color: black;border-radius: 0.25em;background-color: #f0f8ff;}#sk-container-id-1 input.sk-toggleable__control:checked~div.sk-toggleable__content {max-height: 200px;max-width: 100%;overflow: auto;}#sk-container-id-1 input.sk-toggleable__control:checked~label.sk-toggleable__label-arrow:before {content: \"▾\";}#sk-container-id-1 div.sk-estimator input.sk-toggleable__control:checked~label.sk-toggleable__label {background-color: #d4ebff;}#sk-container-id-1 div.sk-label input.sk-toggleable__control:checked~label.sk-toggleable__label {background-color: #d4ebff;}#sk-container-id-1 input.sk-hidden--visually {border: 0;clip: rect(1px 1px 1px 1px);clip: rect(1px, 1px, 1px, 1px);height: 1px;margin: -1px;overflow: hidden;padding: 0;position: absolute;width: 1px;}#sk-container-id-1 div.sk-estimator {font-family: monospace;background-color: #f0f8ff;border: 1px dotted black;border-radius: 0.25em;box-sizing: border-box;margin-bottom: 0.5em;}#sk-container-id-1 div.sk-estimator:hover {background-color: #d4ebff;}#sk-container-id-1 div.sk-parallel-item::after {content: \"\";width: 100%;border-bottom: 1px solid gray;flex-grow: 1;}#sk-container-id-1 div.sk-label:hover label.sk-toggleable__label {background-color: #d4ebff;}#sk-container-id-1 div.sk-serial::before {content: \"\";position: absolute;border-left: 1px solid gray;box-sizing: border-box;top: 0;bottom: 0;left: 50%;z-index: 0;}#sk-container-id-1 div.sk-serial {display: flex;flex-direction: column;align-items: center;background-color: white;padding-right: 0.2em;padding-left: 0.2em;position: relative;}#sk-container-id-1 div.sk-item {position: relative;z-index: 1;}#sk-container-id-1 div.sk-parallel {display: flex;align-items: stretch;justify-content: center;background-color: white;position: relative;}#sk-container-id-1 div.sk-item::before, #sk-container-id-1 div.sk-parallel-item::before {content: \"\";position: absolute;border-left: 1px solid gray;box-sizing: border-box;top: 0;bottom: 0;left: 50%;z-index: -1;}#sk-container-id-1 div.sk-parallel-item {display: flex;flex-direction: column;z-index: 1;position: relative;background-color: white;}#sk-container-id-1 div.sk-parallel-item:first-child::after {align-self: flex-end;width: 50%;}#sk-container-id-1 div.sk-parallel-item:last-child::after {align-self: flex-start;width: 50%;}#sk-container-id-1 div.sk-parallel-item:only-child::after {width: 0;}#sk-container-id-1 div.sk-dashed-wrapped {border: 1px dashed gray;margin: 0 0.4em 0.5em 0.4em;box-sizing: border-box;padding-bottom: 0.4em;background-color: white;}#sk-container-id-1 div.sk-label label {font-family: monospace;font-weight: bold;display: inline-block;line-height: 1.2em;}#sk-container-id-1 div.sk-label-container {text-align: center;}#sk-container-id-1 div.sk-container {/* jupyter's `normalize.less` sets `[hidden] { display: none; }` but bootstrap.min.css set `[hidden] { display: none !important; }` so we also need the `!important` here to be able to override the default hidden behavior on the sphinx rendered scikit-learn.org. See: https://github.com/scikit-learn/scikit-learn/issues/21755 */display: inline-block !important;position: relative;}#sk-container-id-1 div.sk-text-repr-fallback {display: none;}</style><div id=\"sk-container-id-1\" class=\"sk-top-container\"><div class=\"sk-text-repr-fallback\"><pre>RandomForestClassifier(n_estimators=500, random_state=1)</pre><b>In a Jupyter environment, please rerun this cell to show the HTML representation or trust the notebook. <br />On GitHub, the HTML representation is unable to render, please try loading this page with nbviewer.org.</b></div><div class=\"sk-container\" hidden><div class=\"sk-item\"><div class=\"sk-estimator sk-toggleable\"><input class=\"sk-toggleable__control sk-hidden--visually\" id=\"sk-estimator-id-1\" type=\"checkbox\" checked><label for=\"sk-estimator-id-1\" class=\"sk-toggleable__label sk-toggleable__label-arrow\">RandomForestClassifier</label><div class=\"sk-toggleable__content\"><pre>RandomForestClassifier(n_estimators=500, random_state=1)</pre></div></div></div></div></div>"
            ],
            "text/plain": [
              "RandomForestClassifier(n_estimators=500, random_state=1)"
            ]
          },
          "execution_count": 61,
          "metadata": {},
          "output_type": "execute_result"
        }
      ],
      "source": [
        "# Create an instance of the RandomForestClassifier with hyperparameters\n",
        "forest = RandomForestClassifier(n_estimators=500, random_state=1)\n",
        "\n",
        "# Train the RandomForestClassifier on the training data\n",
        "forest.fit(X_train, y_train.values.ravel())"
      ]
    },
    {
      "cell_type": "code",
      "execution_count": null,
      "id": "c6cc9b65",
      "metadata": {
        "execution": {
          "iopub.execute_input": "2023-07-27T05:48:40.505244Z",
          "iopub.status.busy": "2023-07-27T05:48:40.504830Z",
          "iopub.status.idle": "2023-07-27T05:48:40.565082Z",
          "shell.execute_reply": "2023-07-27T05:48:40.563472Z"
        },
        "papermill": {
          "duration": 0.096408,
          "end_time": "2023-07-27T05:48:40.567151",
          "exception": false,
          "start_time": "2023-07-27T05:48:40.470743",
          "status": "completed"
        },
        "tags": [],
        "id": "c6cc9b65",
        "outputId": "4e94bb3c-b52f-4f8b-c000-1c55df7f0463"
      },
      "outputs": [
        {
          "name": "stdout",
          "output_type": "stream",
          "text": [
            " 1) city                           0.077567\n",
            " 2) player_of_match                0.136631\n",
            " 3) venue                          0.072987\n",
            " 4) neutral_venue                  0.009789\n",
            " 5) team1                          0.142738\n",
            " 6) team2                          0.131298\n",
            " 7) toss_winner                    0.120104\n",
            " 8) toss_decision                  0.027014\n",
            " 9) winner                         0.096080\n",
            "10) result_margin                  0.093874\n",
            "11) umpire1                        0.091918\n"
          ]
        }
      ],
      "source": [
        "# Get the feature importances from the trained RandomForestClassifier\n",
        "importances = forest.feature_importances_\n",
        "\n",
        "# Loop over each feature and its importance\n",
        "for i in range(X_train.shape[1]):\n",
        "    # Print the feature number, name, and importance score\n",
        "    print(\"%2d) %-*s %f\" % (i + 1, 30, data.columns[i], importances[i]))"
      ]
    },
    {
      "cell_type": "code",
      "execution_count": null,
      "id": "f1f84565",
      "metadata": {
        "execution": {
          "iopub.execute_input": "2023-07-27T05:48:40.632733Z",
          "iopub.status.busy": "2023-07-27T05:48:40.632386Z",
          "iopub.status.idle": "2023-07-27T05:48:40.926686Z",
          "shell.execute_reply": "2023-07-27T05:48:40.925425Z"
        },
        "papermill": {
          "duration": 0.330068,
          "end_time": "2023-07-27T05:48:40.929015",
          "exception": false,
          "start_time": "2023-07-27T05:48:40.598947",
          "status": "completed"
        },
        "tags": [],
        "id": "f1f84565",
        "outputId": "bc3528df-7020-4d74-c73b-435c3134f204"
      },
      "outputs": [
        {
          "data": {
            "image/png": "[encoded data removed]",
            "text/plain": [
              "<Figure size 1000x600 with 1 Axes>"
            ]
          },
          "metadata": {},
          "output_type": "display_data"
        }
      ],
      "source": [
        "# Plotting the feature importances as a bar chart\n",
        "plt.figure(figsize=(10, 6))\n",
        "plt.bar(range(X_train.shape[1]), importances, align='center')\n",
        "plt.title('Feature Importance')\n",
        "plt.xticks(range(X_train.shape[1]), X_train.columns, rotation=90)\n",
        "plt.xlabel('Features')\n",
        "plt.ylabel('Importance Score')\n",
        "plt.tight_layout()\n",
        "plt.show()\n"
      ]
    },
    {
      "cell_type": "markdown",
      "id": "fdeb52e5",
      "metadata": {
        "papermill": {
          "duration": 0.034754,
          "end_time": "2023-07-27T05:48:41.059310",
          "exception": false,
          "start_time": "2023-07-27T05:48:41.024556",
          "status": "completed"
        },
        "tags": [],
        "id": "fdeb52e5"
      },
      "source": [
        "# **Training our Model**"
      ]
    },
    {
      "cell_type": "markdown",
      "id": "83fafbec",
      "metadata": {
        "papermill": {
          "duration": 0.032623,
          "end_time": "2023-07-27T05:48:41.125191",
          "exception": false,
          "start_time": "2023-07-27T05:48:41.092568",
          "status": "completed"
        },
        "tags": [],
        "id": "83fafbec"
      },
      "source": [
        "### **1. Logistic Regression**"
      ]
    },
    {
      "cell_type": "code",
      "execution_count": null,
      "id": "1cfe18bf",
      "metadata": {
        "execution": {
          "iopub.execute_input": "2023-07-27T05:48:41.193353Z",
          "iopub.status.busy": "2023-07-27T05:48:41.192319Z",
          "iopub.status.idle": "2023-07-27T05:48:41.239498Z",
          "shell.execute_reply": "2023-07-27T05:48:41.238329Z"
        },
        "papermill": {
          "duration": 0.083043,
          "end_time": "2023-07-27T05:48:41.241348",
          "exception": false,
          "start_time": "2023-07-27T05:48:41.158305",
          "status": "completed"
        },
        "tags": [],
        "id": "1cfe18bf"
      },
      "outputs": [],
      "source": [
        "# Initialize the logistic regression model\n",
        "model = LogisticRegression()\n",
        "\n",
        "# Train the model on the training data\n",
        "model.fit(X_train, y_train)"
      ]
    },
    {
      "cell_type": "code",
      "execution_count": null,
      "id": "5f54d5ca",
      "metadata": {
        "execution": {
          "iopub.execute_input": "2023-07-27T05:48:41.307643Z",
          "iopub.status.busy": "2023-07-27T05:48:41.307249Z",
          "iopub.status.idle": "2023-07-27T05:48:41.317875Z",
          "shell.execute_reply": "2023-07-27T05:48:41.316212Z"
        },
        "papermill": {
          "duration": 0.046626,
          "end_time": "2023-07-27T05:48:41.320055",
          "exception": false,
          "start_time": "2023-07-27T05:48:41.273429",
          "status": "completed"
        },
        "tags": [],
        "id": "5f54d5ca",
        "outputId": "e5d1eb0e-1c55-41a0-895b-42049772c3ee"
      },
      "outputs": [
        {
          "name": "stdout",
          "output_type": "stream",
          "text": [
            "Accuracy: 0.2822085889570552\n"
          ]
        }
      ],
      "source": [
        "# Make predictions on the testing data\n",
        "y_pred = model.predict(X_test)\n",
        "\n",
        "# Evaluate the model's performance using accuracy as an example\n",
        "accuracy = accuracy_score(y_test, y_pred)\n",
        "print(\"Accuracy:\", accuracy)"
      ]
    },
    {
      "cell_type": "markdown",
      "id": "2ef9b97f",
      "metadata": {
        "papermill": {
          "duration": 0.032895,
          "end_time": "2023-07-27T05:48:41.635216",
          "exception": false,
          "start_time": "2023-07-27T05:48:41.602321",
          "status": "completed"
        },
        "tags": [],
        "id": "2ef9b97f"
      },
      "source": [
        "### **2. Random Forest**"
      ]
    },
    {
      "cell_type": "code",
      "execution_count": null,
      "id": "9ce880ca",
      "metadata": {
        "execution": {
          "iopub.execute_input": "2023-07-27T05:48:41.702300Z",
          "iopub.status.busy": "2023-07-27T05:48:41.701935Z",
          "iopub.status.idle": "2023-07-27T05:48:41.744040Z",
          "shell.execute_reply": "2023-07-27T05:48:41.742816Z"
        },
        "papermill": {
          "duration": 0.077707,
          "end_time": "2023-07-27T05:48:41.745999",
          "exception": false,
          "start_time": "2023-07-27T05:48:41.668292",
          "status": "completed"
        },
        "tags": [],
        "id": "9ce880ca"
      },
      "outputs": [],
      "source": [
        "# Initialize the logistic regression model\n",
        "model = RandomForestClassifier(n_estimators=13)\n",
        "\n",
        "# Train the model on the training data\n",
        "model.fit(X_train, y_train)"
      ]
    },
    {
      "cell_type": "code",
      "execution_count": null,
      "id": "7bde87ed",
      "metadata": {
        "execution": {
          "iopub.execute_input": "2023-07-27T05:48:41.812920Z",
          "iopub.status.busy": "2023-07-27T05:48:41.812548Z",
          "iopub.status.idle": "2023-07-27T05:48:41.825667Z",
          "shell.execute_reply": "2023-07-27T05:48:41.824398Z"
        },
        "papermill": {
          "duration": 0.048729,
          "end_time": "2023-07-27T05:48:41.827578",
          "exception": false,
          "start_time": "2023-07-27T05:48:41.778849",
          "status": "completed"
        },
        "tags": [],
        "id": "7bde87ed",
        "outputId": "ed3d3356-8456-40c3-be77-66827014372a"
      },
      "outputs": [
        {
          "name": "stdout",
          "output_type": "stream",
          "text": [
            "Accuracy: 0.5705521472392638\n"
          ]
        }
      ],
      "source": [
        "# Make predictions on the testing data\n",
        "y_pred = model.predict(X_test)\n",
        "\n",
        "# Evaluate the model's performance using accuracy as an example\n",
        "accuracy = accuracy_score(y_test, y_pred)\n",
        "print(\"Accuracy:\", accuracy)"
      ]
    }
  ],
  "metadata": {
    "kernelspec": {
      "display_name": "Python 3",
      "language": "python",
      "name": "python3"
    },
    "language_info": {
      "codemirror_mode": {
        "name": "ipython",
        "version": 3
      },
      "file_extension": ".py",
      "mimetype": "text/x-python",
      "name": "python",
      "nbconvert_exporter": "python",
      "pygments_lexer": "ipython3",
      "version": "3.10.12"
    },
    "papermill": {
      "default_parameters": {},
      "duration": 33.245648,
      "end_time": "2023-07-27T05:48:51.023350",
      "environment_variables": {},
      "exception": null,
      "input_path": "__notebook__.ipynb",
      "output_path": "__notebook__.ipynb",
      "parameters": {},
      "start_time": "2023-07-27T05:48:17.777702",
      "version": "2.4.0"
    },
    "colab": {
      "provenance": [],
      "include_colab_link": true
    }
  },
  "nbformat": 4,
  "nbformat_minor": 5
}